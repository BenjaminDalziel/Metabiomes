


# import packages
import numpy as np
import random 
import plotly.graph_objects as go
import matplotlib.pyplot as plt






def plot_matrix(matrix, title="Matrix with Regular Color Scale", use_meta=False):
    """
    Normalize each row of a given matrix and plot a heatmap with a color scale.
    If 'meta' is present in the title, a custom red-to-green color scale is used; 
    otherwise, a regular color scale is used.
    
    Args:
        matrix (numpy.ndarray): Input 2D matrix.
        title (str): Title of the heatmap (used to decide the color scale).
        use_meta (bool): Flag to apply the custom color scale when True, 
                         or use a regular color scale otherwise.
    """
    # Normalize the matrix
    norm_conf = []
    for row in matrix:
        row_sum = sum(row)
        normalized_row = [float(val) / float(row_sum) if row_sum != 0 else 0 for val in row]
        norm_conf.append(normalized_row)
    normalized_matrix = np.array(norm_conf)
    
    # Define custom color scale (red-to-green)
    custom_colorscale = [
        [0, 'darkred'],   # Dark red for negative values
        [0.4999, 'red'],  # Red for negative values
        [0.5, 'white'],   # White for zero values
        [0.511111111, 'green'],  # Green for positive values
        [1, 'darkgreen']  # Dark green for positive values
    ]
    
    # Define regular color scale (default)
    regular_colorscale = 'Viridis'  # You can use any built-in color scale, e.g., 'Viridis', 'Cividis', etc.
    
    # Select color scale based on the flag or title
    colorscale = custom_colorscale if use_meta or 'meta' in title.lower() else regular_colorscale
    
    # Create the heatmap
    fig = go.Figure(data=go.Heatmap(
        z=matrix,  # Use the original matrix
        x=np.arange(1, matrix.shape[1] + 1),
        y=np.arange(1, matrix.shape[0] + 1)[::-1],  # Reverse the y-axis labels
        colorscale=colorscale,
        zmid=0,  # Set the midpoint of the color scale to zero
    ))
    
    # Update layout for better visualization
    fig.update_layout(
        title=title,
        xaxis_title='Column',
        yaxis_title='Row',
    )
    
    # Show the plot
    fig.show()
    
    return #normalized_matrix  # Return the normalized matrix





def local_matrix_A (matrix_para):
    
    #pull the values from the list matrix_para
    
    S=matrix_para['S']
    C = matrix_para['C']
    sigma = matrix_para['sigma']
    Pm = matrix_para['Pm']
    Pc = matrix_para['Pc']
    Pe= matrix_para['Pe']
    s = matrix_para['s']
    
    # Ensure that the sum of Pm, Pe, and Pc is equal to 1
    if not np.isclose(Pm + Pe + Pc, 1.0):
        raise ValueError("The sum of Pm, Pe, and Pc must be equal to 1.")
    
    A= np.zeros((S,S))
    
    np.fill_diagonal (A,-s)
    
    #loop to assign values to a_ij and a_ii
    
    for i in range(1,S):
        for j in range(i):
            if np.random.rand()<= C:
                
                #Assign the random variable
                p = np.random.rand()
                a = sigma*abs(np.random.normal(0,1))
                b = sigma*abs(np.random.normal(0,1))
                
                if p > 1-Pm: #assign mutualism
                    A[i,j]= a
                    A[j,i]= b
                    
                elif p<= Pc: #assign competition
                    A[i,j]= -a
                    A[j,i]= -b
                    
                elif Pc<p<=1-Pm: #assign exploitative
                    if np.random.rand()<= 0.5:
                        A[i,j]= a
                        A[j,i]=-b
                    else:
                        A[i,j]= -a
                        A[j,i]= b
    return A
            





#parameters
S=10
C=0.5
sigma= 0.5
Pc=0
Pm=1
Pe=0
s= 1

matrix_para = {'S':S, 'C':C, 'sigma':sigma, 'Pm':Pm, 'Pc':Pc, 'Pe':Pe,'s':s}
matrix_para

A=local_matrix_A(matrix_para)
plot_matrix(A)





# This version only works in single communities
def collection_local_matrices(L, matrix_para):
    
    S = matrix_para['S']
    C = matrix_para['C']
    sigma = matrix_para['sigma']
    Pm = matrix_para['Pm']
    Pc = matrix_para['Pc']
    Pe=matrix_para['Pe']
    s = matrix_para['s']
    
    A = np.empty((S, S, L))
    
    if matrix_para.get('delta') is None:
        for i in range(L):
            A[:, :, i] = local_matrix_A(matrix_para)
    else:
        delta = matrix_para['delta']
        B = local_matrix_A(matrix_para)

        for i in range(L):
            U = np.random.uniform(1 - delta, 1 + delta, (S, S))
            thisA = U * B
            np.fill_diagonal(thisA, -s)
            A[:, :, i] = thisA

    return A
L=2
A=collection_local_matrices(L,matrix_para)





import numpy as np  # Ensure you have numpy imported

def subcommunity_mask(a, b, S, M):
    """
    Return a mask of the metacommunity matrix
    corresponding to interactions between taxa
    in subcommunities a and b.
    """
    rows = slice((a - 1) * S, a * S)
    cols = slice((b - 1) * S, b * S)
    
    mask = np.zeros((S * M, S * M), dtype=bool)
    mask[rows, cols] = True  # This line is correct as it sets the specified block to True
    
    return mask

def meta_A(L, S, matrix_para):
    """
    This is representative of the A matrix found in the jacobian J
    """
    AA = collection_local_matrices(L, matrix_para)
    
    # Assemble the metacommunity interaction matrix A
    A = np.zeros((S * L, S * L))
    
    # Place interaction matrices along the block diagonal
    for i in range(1, L + 1):
        row_start = (i - 1) * S
        row_end = i * S
        col_start = (i - 1) * S
        col_end = i * S
        
        A[row_start:row_end, col_start:col_end] = AA[:, :, i - 1]
    
    return A





import numpy as np

def get_mij(L, S, m):
    """
    Assemble metacommunity immigration matrix (off diagonal) 
    """
    m_ij = np.zeros((S * L, S * L))
    
    row_taxa = np.tile(np.arange(S), (L * S, 1))
    col_taxa = row_taxa.T
    
    x = np.repeat(np.arange(L), S)
    row_subcom = np.tile(x, (L * S, 1))
    col_subcom = row_subcom.T
    
    for i in range(S * L):
        for j in range(S * L):
            is_different_subcom = row_subcom[i, j] != col_subcom[i, j]
            is_same_taxa = row_taxa[i % S, j % S] == col_taxa[i % S, j % S]
            is_disperal = is_different_subcom and is_same_taxa
            
            if is_disperal:
                m_ij[i, j] = m / (L - 1)
    
    return m_ij

# Example usage
L=3
m=4
S=4
m_ij=get_mij(L,S,m)
plot_matrix(m_ij)





def f(N, m, m_ij):
    """
    Calculate the function f. This function is our approximation as migration increases
    """
    return -m + (1 / N) * (m_ij @ N)

def find_feasible_equilibrium(A, r, m, m_ij):
    """
    Find feasible equilibrium N^*.
    """
    Ainv = np.linalg.inv(A)
    Nstar_nomigration = -Ainv @ r
    Approximation = f(Nstar_nomigration, m, m_ij)
    
    Nhatstar = -Ainv @ (Approximation + r)
    
    return Nhatstar

#Example of usage
L=3
S=2
m=1
r=np.ones(S*L)

matrix_para = {'S':S, 'C':C, 'sigma':sigma, 'Pm':Pm, 'Pc':Pc, 'Pe':Pe,'s':s}

A=meta_A(L,S,matrix_para)
m_ij=get_mij(L,S,m)

Nhatstar=find_feasible_equilibrium(A,r,m,m_ij)
Nhatstar





def Compute_J(A,Nhatstar, m_ij):
    """
    This is Stone version of the J metacommunity matrix
    """
    #Assemble G matrix (dispersal)
    G = np.zeros_like(A)
    np.fill_diagonal(G, -1 / Nhatstar * (m_ij @ Nhatstar))
    G += m_ij
    
    #Assemble D matrix containing the N_i* for all the species in the system
    D = np.diag(Nhatstar)
    
    #Assemble Stability Matrix like Roberts and Stone
    S=D@A
    #Assemble Jacobian
    J= S +G
    
    return J

#Example of usage
#parameters
L=3
S=25
C=0.2
sigma= 0.02
Pc=0.5
Pm=0.25
Pe=0.25
s= 1

m=1
r=np.ones(S*L)

matrix_para = {'S':S, 'C':C, 'sigma':sigma, 'Pm':Pm, 'Pc':Pc, 'Pe':Pe,'s':s}

A=meta_A(L,S,matrix_para)
m_ij=get_mij(L,S,m)

Nhatstar=find_feasible_equilibrium(A,r,m,m_ij)

J=Compute_J(A,Nhatstar,m_ij)
plot_matrix(J,title="Metacommunity Matrix", use_meta=True)





def max_real_eigenvalue(matrix):
    """
    Calculate the maximum real part of the eigenvalues of a matrix.
    
    Parameters:
    matrix (np.ndarray): The input matrix.
    
    Returns:
    float: The maximum real part of the eigenvalues.
    """
    eigenvalues = np.linalg.eigvals(matrix)
    max_real_part = np.max(np.real(eigenvalues))
    return max_real_part


max_real=max_real_eigenvalue(J)
max_real





# exploring the plots
# Parameters
L = 3
S = 100
C = 0.2
sigma = 0.02
Pc = 0
Pm = 0.6
Pe = 0.4
s = 2
matrix_para = {'S': S, 'C': C, 'sigma': sigma, 'Pm': Pm, 'Pc': Pc, 'Pe': Pe, 's': s}
r = np.ones(S * L)

# Values of m to plot
m_values = [0, 1, 8]

# Create subplots
fig, axs = plt.subplots(1, 3, figsize=(18, 6))

for i, m in enumerate(m_values):
    A=meta_A(L,S,matrix_para)
    m_ij=get_mij(L,S,m)

    Nhatstar=find_feasible_equilibrium(A,r,m,m_ij)


    if A is None or m_ij is None:
        raise ValueError("A or m_ij is None. Check the implementation of meta_A and migration functions.")
    
    J=Compute_J(A,Nhatstar,m_ij)

    # Compute the eigenvalues
    eigenvalues, _ = np.linalg.eig(J)

    # Plot the eigenvalues
    axs[i].scatter(eigenvalues.real, eigenvalues.imag, color='red')
    axs[i].set_title(f'Eigenvalues of the matrix (m={m})')
    axs[i].set_xlabel('Real part')
    axs[i].set_ylabel('Imaginary part')
    axs[i].grid(True)
    axs[i].axhline(0, color='black', linewidth=0.5)
    axs[i].axvline(0, color='black', linewidth=0.5)

# Adjust layout
plt.tight_layout()
plt.show()
